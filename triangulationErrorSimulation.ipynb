{
 "cells": [
  {
   "cell_type": "code",
   "execution_count": 5,
   "metadata": {},
   "outputs": [],
   "source": [
    "import matplotlib.pyplot as plt\n",
    "import numpy as np\n",
    "import cv2\n",
    "import src.triangulation as tri"
   ]
  },
  {
   "cell_type": "code",
   "execution_count": 22,
   "metadata": {},
   "outputs": [
    {
     "name": "stdout",
     "output_type": "stream",
     "text": [
      "[[0.35557853]\n",
      " [0.01368201]\n",
      " [0.03162462]\n",
      " [0.93401102]]\n"
     ]
    }
   ],
   "source": [
    "npfile = np.load('cameraIntrinsics/IRCam1.npz')\n",
    "mtx = npfile[\"mtx\"]\n",
    "dist = npfile[\"dist\"]\n",
    "tvec = np.array([-0.70, 0, 0])\n",
    "rvec = np.array([0.0, 0.0, 0.0])\n",
    "\n",
    "cam1 = tri.Camera(mtx, dist)\n",
    "cam2 = tri.Camera(mtx, dist)\n",
    "R2 = cv2.Rodrigues(rvec)[0]\n",
    "pose = np.eye(4)\n",
    "pose[:3, :3] = R2\n",
    "pose[:3, 3] = tvec\n",
    "cam2.setPose(pose)\n",
    "triangulation = tri.Triangulation(cam1, cam2)\n",
    "\n",
    "point1 = np.array([500.0, 500.0])\n",
    "point2 = np.array([500.0, 1500.0])\n",
    "print(triangulation.get3dPoint(point1, point2))"
   ]
  },
  {
   "cell_type": "code",
   "execution_count": 25,
   "metadata": {},
   "outputs": [
    {
     "name": "stdout",
     "output_type": "stream",
     "text": [
      "X error:  0.016726644686531785\n",
      "Y error:  0.02348868813736552\n",
      "Z error:  0.054350775367854445\n"
     ]
    }
   ],
   "source": [
    "sigma = 20\n",
    "N = 100000\n",
    "outputs = np.zeros((N, 3))\n",
    "for i in range(N):\n",
    "    point1 = np.array([500.0, 500.0]) + np.random.normal(0, sigma, 2)\n",
    "    point2 = np.array([500.0, 1500.0]) + np.random.normal(0, sigma, 2)\n",
    "    outputs[i] = triangulation.get3dPoint(point1, point2)[:3,0]\n",
    "xErr = np.std(outputs[:, 0])\n",
    "yErr = np.std(outputs[:, 1])\n",
    "zErr = np.std(outputs[:, 2])\n",
    "print(\"X error: \", xErr)\n",
    "print(\"Y error: \", yErr)\n",
    "print(\"Z error: \", zErr)"
   ]
  }
 ],
 "metadata": {
  "kernelspec": {
   "display_name": "venv",
   "language": "python",
   "name": "python3"
  },
  "language_info": {
   "codemirror_mode": {
    "name": "ipython",
    "version": 3
   },
   "file_extension": ".py",
   "mimetype": "text/x-python",
   "name": "python",
   "nbconvert_exporter": "python",
   "pygments_lexer": "ipython3",
   "version": "3.12.4"
  }
 },
 "nbformat": 4,
 "nbformat_minor": 2
}
