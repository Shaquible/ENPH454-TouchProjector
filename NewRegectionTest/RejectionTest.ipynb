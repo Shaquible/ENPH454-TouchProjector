{
 "cells": [
  {
   "cell_type": "code",
   "execution_count": 108,
   "metadata": {},
   "outputs": [],
   "source": [
    "import cv2\n",
    "import numpy as np\n",
    "import matplotlib.pyplot as plt\n",
    "from scipy.optimize import minimize"
   ]
  },
  {
   "cell_type": "code",
   "execution_count": 109,
   "metadata": {},
   "outputs": [],
   "source": [
    "dictionary = cv2.aruco.getPredefinedDictionary(cv2.aruco.DICT_4X4_1000)\n",
    "parameters = cv2.aruco.DetectorParameters()\n",
    "parameters.cornerRefinementMethod = cv2.aruco.CORNER_REFINE_SUBPIX\n",
    "ArucoDetector = cv2.aruco.ArucoDetector(dictionary, parameters)"
   ]
  },
  {
   "cell_type": "code",
   "execution_count": 110,
   "metadata": {},
   "outputs": [],
   "source": [
    "# #aruco test\n",
    "# im = cv2.imread('frame10.jpg')\n",
    "# grayScale = cv2.cvtColor(im, cv2.COLOR_BGR2GRAY)\n",
    "# (corners1, ids1, rejectedImgPoints) = ArucoDetector.detectMarkers(im)\n",
    "# print(len(rejectedImgPoints))\n",
    "# print(corners1, ids1, rejectedImgPoints)"
   ]
  },
  {
   "cell_type": "code",
   "execution_count": 112,
   "metadata": {},
   "outputs": [
    {
     "name": "stdout",
     "output_type": "stream",
     "text": [
      "(1080, 1920, 3)\n",
      "(720, 1280, 3)\n",
      "[1.64444444 0.         1.        ]\n"
     ]
    }
   ],
   "source": [
    "camPicture = cv2.imread(\"frame14.jpg\")\n",
    "row, col, ch = camPicture.shape\n",
    "print(camPicture.shape)\n",
    "refImage = cv2.imread(\"slide3.PNG\")\n",
    "#resize to 1920x1080\n",
    "print(refImage.shape)\n",
    "pts1 = np.float32([[0,0],[1280,0],[0,720],[1280,720]])\n",
    "pts2 = np.float32([[600,126],[1298,173],[591,566],[1341,544]])\n",
    "matrix = cv2.getPerspectiveTransform(pts1,pts2)\n",
    "dst = cv2.warpPerspective(refImage,matrix,(col,row))\n",
    "\n",
    "def subtractImage(channelScales, base, dist):\n",
    "    h,s,v = cv2.split(cv2.cvtColor(dist, cv2.COLOR_BGR2HSV))\n",
    "    h = cv2.multiply(h, channelScales[0])\n",
    "    s = cv2.multiply(s, channelScales[1])\n",
    "    v = cv2.multiply(v, channelScales[2])\n",
    "    dist = cv2.cvtColor(cv2.merge((h,s,v)), cv2.COLOR_HSV2BGR)\n",
    "    sub = cv2.subtract(base, dist)\n",
    "    return np.sum(sub)\n",
    "\n",
    "params = minimize(subtractImage, [1,1,1], args=(camPicture, dst), method='Nelder-Mead', bounds=((0, 5), (0, 2), (0, 1)))\n",
    "print(params.x)\n",
    "\n",
    "\n",
    "    "
   ]
  }
 ],
 "metadata": {
  "kernelspec": {
   "display_name": "venv",
   "language": "python",
   "name": "python3"
  },
  "language_info": {
   "codemirror_mode": {
    "name": "ipython",
    "version": 3
   },
   "file_extension": ".py",
   "mimetype": "text/x-python",
   "name": "python",
   "nbconvert_exporter": "python",
   "pygments_lexer": "ipython3",
   "version": "3.12.4"
  }
 },
 "nbformat": 4,
 "nbformat_minor": 2
}
