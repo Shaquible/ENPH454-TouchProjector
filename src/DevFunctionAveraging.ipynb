{
 "cells": [
  {
   "cell_type": "code",
   "execution_count": 8,
   "metadata": {},
   "outputs": [],
   "source": [
    "import numpy as np\n",
    "\n"
   ]
  },
  {
   "cell_type": "code",
   "execution_count": 9,
   "metadata": {},
   "outputs": [],
   "source": [
    "def createPlane(P1,P2, P3):\n",
    "    v1 = P2 - P1\n",
    "    v2 = P3 - P1\n",
    "\n",
    "    # Calculate the normal vector using the cross product\n",
    "    v3 = np.cross(v1, v2)\n",
    "\n",
    "\n",
    "\n",
    "    # Normalize the normal vector (optional)\n",
    "    v1Norm = v1 / np.linalg.norm(v1)\n",
    "    v2Norm = v2 / np.linalg.norm(v2)\n",
    "    v3Norm = v3 / np.linalg.norm(v3)\n",
    "\n",
    "    return(v1Norm,v2Norm,v3Norm)\n",
    "\n",
    "def transform(center, v1,v2,v3):\n",
    "\n",
    "    transform = [[v1[0],v1[1], v1[2], -center[0] ], [v2[0],v2[1], v2[2], -center[1] ],[v3[0],v3[1], v3[2], -center[2] ],[0,0, 0, 1 ]]\n",
    "    # print(transform)\n",
    "    return transform"
   ]
  },
  {
   "cell_type": "code",
   "execution_count": 16,
   "metadata": {},
   "outputs": [
    {
     "name": "stdout",
     "output_type": "stream",
     "text": [
      "(array([1., 0., 0.]), array([ 0., -1.,  0.]), array([ 0.,  0., -1.]))\n"
     ]
    }
   ],
   "source": [
    "v1 = np.array([2,24,0])\n",
    "v2 = np.array([8,24,0])\n",
    "v3 = np.array([2,16,0])\n",
    "\n",
    "print(createPlane(v1,v2,v3))\n",
    "\n"
   ]
  },
  {
   "cell_type": "code",
   "execution_count": null,
   "metadata": {},
   "outputs": [
    {
     "name": "stdout",
     "output_type": "stream",
     "text": [
      "\n",
      "[ 0 -1 -2  1]\n"
     ]
    }
   ],
   "source": [
    "center = np.array([1,2,3])\n",
    "v1 = np.array([1,0,0])\n",
    "v2 = np.array([0,1,0])\n",
    "v3 = np.array([0,0,1])\n",
    "\n",
    "\n",
    "a = transform(center,v1,v2,v3)\n",
    "\n",
    "\n",
    "pointNotIna = np.array([1,1,1,1])\n",
    "\n",
    "print()\n",
    "print(np.matmul(a,pointNotIna))\n",
    "\n",
    "\n",
    "\n"
   ]
  },
  {
   "cell_type": "code",
   "execution_count": 11,
   "metadata": {},
   "outputs": [],
   "source": [
    "def averagePlaneVectors(vectorArray):\n",
    "    \n",
    "\n",
    "    vectorArrayUse = abs(vectorArray)\n",
    "\n",
    "    print(vectorArrayUse)\n",
    "    xVectorsBase = [vectorArrayUse[0,:,0]]\n",
    "    yVectorsBase = [vectorArrayUse[0,:,1]]\n",
    "    xVectors = [vectorArrayUse[0,:,0]]\n",
    "    yVectors = [vectorArrayUse[0,:,1]]\n",
    "\n",
    "\n",
    "    zVectors = vectorArray[:,:,2]\n",
    "\n",
    "\n",
    "    for x in range(1,len([vectorArray[:,0,0]])):\n",
    "        cosinex = np.dot(xVectorsBase,vectorArrayUse[x,:,0])/(np.norm(xVectorsBase)*np.norm(vectorArrayUse[x,:,0]))\n",
    "        cosiney = np.dot(xVectorsBase,vectorArrayUse[x,:,1])/(np.norm(xVectorsBase)*np.norm(vectorArrayUse[x,:,1]))\n",
    "\n",
    "        if (abs(cosinex) > abs(cosiney)):\n",
    "            xVectors.append(vectorArrayUse[x,:,0])\n",
    "            yVectors.append(vectorArrayUse[x,:,1])\n",
    "        else:\n",
    "            xVectors.append(vectorArrayUse[x,:,1])\n",
    "            yVectors.append(vectorArrayUse[x,:,0])\n",
    "\n",
    "\n",
    "    return(xVectors,yVectors,zVectors)\n"
   ]
  },
  {
   "cell_type": "code",
   "execution_count": 12,
   "metadata": {},
   "outputs": [
    {
     "name": "stdout",
     "output_type": "stream",
     "text": [
      "[[[ 1  0  0 -1]\n",
      "  [ 0  1  0 -2]\n",
      "  [ 0  0  1 -3]\n",
      "  [ 0  0  0  1]]\n",
      "\n",
      " [[ 1  0  0 -1]\n",
      "  [ 0  1  0 -2]\n",
      "  [ 0 12 -1 -3]\n",
      "  [ 0  0  0  1]]\n",
      "\n",
      " [[ 1  0  0 -1]\n",
      "  [ 0  1  0 -2]\n",
      "  [-3  0  2 -3]\n",
      "  [ 0  0  0  1]]]\n",
      "\n",
      "[[ 0  0  1  0]\n",
      " [ 0  0 -1  0]\n",
      " [ 0  0  2  0]]\n",
      "\n",
      "3\n",
      "[[[ 1  0  0  1]\n",
      "  [ 0  1  0  2]\n",
      "  [ 0  0  1  3]\n",
      "  [ 0  0  0  1]]\n",
      "\n",
      " [[ 1  0  0  1]\n",
      "  [ 0  1  0  2]\n",
      "  [ 0 12  1  3]\n",
      "  [ 0  0  0  1]]\n",
      "\n",
      " [[ 1  0  0  1]\n",
      "  [ 0  1  0  2]\n",
      "  [ 3  0  2  3]\n",
      "  [ 0  0  0  1]]]\n",
      "([array([1, 0, 0, 0])], [array([0, 1, 0, 0])], array([[ 0,  0,  1,  0],\n",
      "       [ 0,  0, -1,  0],\n",
      "       [ 0,  0,  2,  0]]))\n"
     ]
    }
   ],
   "source": [
    "center = np.array([1,2,3])\n",
    "v1 = np.array([1,0,0])\n",
    "v2 = np.array([0,1,0])\n",
    "v3 = np.array([0,0,1])\n",
    "\n",
    "\n",
    "a = transform(center,v1,v2,v3)\n",
    "\n",
    "center = np.array([1,2,3])\n",
    "v1 = np.array([1,0,0])\n",
    "v2 = np.array([0,1,0])\n",
    "v3 = np.array([0,12,-1])\n",
    "\n",
    "\n",
    "b = transform(center,v1,v2,v3)\n",
    "\n",
    "center = np.array([1,2,3])\n",
    "v1 = np.array([1,0,0])\n",
    "v2 = np.array([0,1,0])\n",
    "v3 = np.array([-3,0,2])\n",
    "\n",
    "\n",
    "c= transform(center,v1,v2,v3)\n",
    "\n",
    "allArray = np.array([a,b,c])\n",
    "\n",
    "\n",
    "print(allArray)\n",
    "print()\n",
    "print(allArray[:,:,2])\n",
    "\n",
    "print()\n",
    "\n",
    "print(len(allArray[:,0,0]))\n",
    "\n",
    "print(averagePlaneVectors(allArray))\n"
   ]
  }
 ],
 "metadata": {
  "kernelspec": {
   "display_name": "TF",
   "language": "python",
   "name": "python3"
  },
  "language_info": {
   "codemirror_mode": {
    "name": "ipython",
    "version": 3
   },
   "file_extension": ".py",
   "mimetype": "text/x-python",
   "name": "python",
   "nbconvert_exporter": "python",
   "pygments_lexer": "ipython3",
   "version": "3.8.16"
  }
 },
 "nbformat": 4,
 "nbformat_minor": 2
}
